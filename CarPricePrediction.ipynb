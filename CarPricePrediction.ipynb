{
 "cells": [
  {
   "cell_type": "markdown",
   "id": "5f2c7e0b",
   "metadata": {},
   "source": [
    "## Extracting Data"
   ]
  },
  {
   "cell_type": "code",
   "execution_count": null,
   "id": "e1b99ebe",
   "metadata": {},
   "outputs": [],
   "source": [
    "%pip install selenium\n",
    "from selenium import webdriver\n",
    "from selenium.webdriver.common.by import By\n",
    "import time\n",
    "\n",
    "driver = webdriver.Safari()\n",
    "driver.get(\"https://bama.ir/car/<BRAND_NAME>\")\n",
    "print(driver.title)\n",
    "\n",
    "cars = []\n",
    "ads = []\n",
    "\n",
    "SCROLL_PAUSE_TIME = 2\n",
    "\n",
    "while len(ads) < 200:\n",
    "    driver.execute_script(\"window.scrollTo(0, document.body.scrollHeight);\")\n",
    "    time.sleep(SCROLL_PAUSE_TIME)\n",
    "    \n",
    "    new_ads = driver.find_elements(By.CSS_SELECTOR, \"div.bama-ad-holder\")\n",
    "    ads.extend([ad for ad in new_ads if ad not in ads]) \n",
    "    \n",
    "    if len(new_ads) == 0:\n",
    "        break  \n",
    "\n",
    "for ad in ads[:100]: \n",
    "    year = None\n",
    "    usage = None\n",
    "    model = None\n",
    "    price = None\n",
    "    \n",
    "\n",
    "    try:\n",
    "        data = ad.find_element(By.CSS_SELECTOR, \"div.bama-ad__detail-row\")\n",
    "        spans = data.find_elements(By.TAG_NAME, \"span\")\n",
    "        if len(spans) >= 3:\n",
    "            year = int(spans[0].text.strip())\n",
    "            usage = spans[1].text.strip()\n",
    "            model = spans[2].text.strip()\n",
    "            if usage == \"صفر کیلومتر\":\n",
    "                usage = 0\n",
    "            if \"km\" in usage:\n",
    "                usage = usage.replace(\"km\", \"\").replace(\",\", \"\").strip()\n",
    "                usage = int(usage)\n",
    "\n",
    "    except:\n",
    "        pass\n",
    "\n",
    "    try:\n",
    "        price = ad.find_element(By.CSS_SELECTOR, \"span.bama-ad__price\").text.strip()\n",
    "        price = int(price.replace(\",\" , \"\"))\n",
    "    except:\n",
    "        pass\n",
    "\n",
    "    if price is not None and year is not None :\n",
    "        cars.append({\n",
    "            \"year\": year,\n",
    "            \"usage\": usage,\n",
    "            \"model\": model,\n",
    "            \"price\": price\n",
    "        })\n",
    "\n",
    "for c in cars:\n",
    "    print(c)\n",
    "\n",
    "driver.quit()\n"
   ]
  },
  {
   "cell_type": "markdown",
   "id": "32f9116a",
   "metadata": {},
   "source": [
    "## Build the model"
   ]
  },
  {
   "cell_type": "code",
   "execution_count": null,
   "id": "04941056",
   "metadata": {},
   "outputs": [],
   "source": [
    "%pip install pandas\n",
    "import pandas as pd\n",
    "\n",
    "df = pd.DataFrame(cars)\n",
    "\n",
    "x = df.drop([\"price\"] , axis=1)\n",
    "y = df[\"price\"]\n",
    "\n"
   ]
  },
  {
   "cell_type": "code",
   "execution_count": null,
   "id": "f45aa14f",
   "metadata": {},
   "outputs": [],
   "source": [
    "%pip install scikit-learn\n",
    "from sklearn.preprocessing import OneHotEncoder\n",
    "from sklearn.ensemble import RandomForestRegressor\n",
    "x = pd.get_dummies(x, columns=[\"model\"]) \n"
   ]
  },
  {
   "cell_type": "markdown",
   "id": "5b016e23",
   "metadata": {},
   "source": [
    "## Train and Predict the model with Random Forest Regressor"
   ]
  },
  {
   "cell_type": "code",
   "execution_count": null,
   "id": "f89fee3e",
   "metadata": {},
   "outputs": [],
   "source": [
    "from sklearn.model_selection import train_test_split\n",
    "\n",
    "x_train , x_test , y_train , y_test = train_test_split(x,y,test_size=0.2)\n",
    "\n",
    "model = RandomForestRegressor(n_estimators=100, random_state=42)\n",
    "model.fit(x_train, y_train)\n",
    "\n",
    "y_pred = model.predict(x_test)\n",
    "\n",
    "indicator = 0\n",
    "for p in y_pred:\n",
    "    p_int = int(round(p))\n",
    "    res = \"\"\n",
    "    s = str(p_int)\n",
    "    counter = 0\n",
    "\n",
    "    for char in reversed(s):\n",
    "        res = char + res\n",
    "        counter += 1\n",
    "        if counter % 3 == 0 and counter != len(s):\n",
    "            res = \",\" + res\n",
    "\n",
    "    print( res)\n",
    "        \n",
    "pd.DataFrame(x_test)\n",
    "    "
   ]
  },
  {
   "cell_type": "markdown",
   "id": "3f4e007e",
   "metadata": {},
   "source": [
    "## Evaluate accuracy"
   ]
  },
  {
   "cell_type": "code",
   "execution_count": null,
   "id": "0375b40f",
   "metadata": {},
   "outputs": [],
   "source": [
    "from sklearn.metrics import mean_absolute_error, mean_squared_error, r2_score\n",
    "\n",
    "\n",
    "mae = mean_absolute_error(y_test, y_pred)\n",
    "mse = mean_squared_error(y_test, y_pred)\n",
    "r2 = r2_score(y_test, y_pred)\n",
    "\n",
    "print(\"MAE:\", mae)\n",
    "print(\"MSE:\", mse)\n",
    "print(\"R2 Score:\", r2)\n"
   ]
  }
 ],
 "metadata": {
  "kernelspec": {
   "display_name": "Python 3",
   "language": "python",
   "name": "python3"
  },
  "language_info": {
   "codemirror_mode": {
    "name": "ipython",
    "version": 3
   },
   "file_extension": ".py",
   "mimetype": "text/x-python",
   "name": "python",
   "nbconvert_exporter": "python",
   "pygments_lexer": "ipython3",
   "version": "3.11.0"
  }
 },
 "nbformat": 4,
 "nbformat_minor": 5
}
